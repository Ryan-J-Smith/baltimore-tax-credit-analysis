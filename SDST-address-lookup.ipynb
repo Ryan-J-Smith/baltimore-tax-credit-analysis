{
 "cells": [
  {
   "cell_type": "markdown",
   "metadata": {},
   "source": [
    "# This script is used to obtain the HTML code for the Real Property database page on a relevant house"
   ]
  },
  {
   "cell_type": "markdown",
   "metadata": {},
   "source": [
    "## User specifies House to be found"
   ]
  },
  {
   "cell_type": "code",
   "execution_count": 1,
   "metadata": {
    "collapsed": true
   },
   "outputs": [],
   "source": [
    "# Address if known:\n",
    "homeAddress = '2812 North Charles'\n",
    "\n",
    "# Block and lot number if known (as strings):\n",
    "block = '5695E'\n",
    "lot = '039'"
   ]
  },
  {
   "cell_type": "markdown",
   "metadata": {},
   "source": [
    "## Pre-format AJAX Request"
   ]
  },
  {
   "cell_type": "code",
   "execution_count": 2,
   "metadata": {
    "collapsed": false
   },
   "outputs": [],
   "source": [
    "# Format boilerplate request\n",
    "formdict = {}\n",
    "\n",
    "formdict['__EVENTTARGET'] = 'ctl00$ctl00$rootMasterContent$LocalContentPlaceHolder$DataGrid1$ctl02$lnkBtnSelect'\n",
    "formdict['__VIEWSTATE'] = '/wEPDwULLTEyMDI3MzkzODIPFgIeBVllYXJzFQQEMjAxNgQyMDE1BDIwMTQEMjAxMxYCZg9kFgJmD2QWBGYPZBYEAgIPFgIeBFRleHRlZAIFDxYCHgdWaXNpYmxlZxYCZg8WAh8BZWQCAQ9kFgoCAQ8PFgIeCEltYWdlVXJsBVZodHRwOi8vY2l0eXNlcnZpY2VzLmJhbHRpbW9yZWNpdHkuZ292L3JlbW90ZW1hc3RlcnYzL2ltYWdlcy9pbnRlcm5ldC9pY29ucy9sb2FkaW5nLmdpZmRkAgQPFgIfAmdkAgYPFgIfAmcWAgIBDxYCHwEFDVJlYWwgUHJvcGVydHlkAgcPZBYIAgEPZBYCAgEPZBYEZg8PFgYfAQUSU2VhcmNoIFVuYXZhaWxhYmxlHgdUb29sVGlwBThTZWFyY2ggaXMgY3VycmVudGx5IHVuYXZhaWxhYmxlLCBwbGVhc2UgdHJ5IGFnYWluIGxhdGVyLh4IUmVhZE9ubHlnFgQeB29uZm9jdXMFMWlmKHRoaXMudmFsdWU9PSdLZXl3b3JkIG9yIFNlYXJjaCcpdGhpcy52YWx1ZT0nJzseBm9uYmx1cgUxaWYodGhpcy52YWx1ZT09JycpdGhpcy52YWx1ZT0nS2V5d29yZCBvciBTZWFyY2gnO2QCAQ8PFgIeB0VuYWJsZWRoFgIeB29uY2xpY2sFaGlmKGRvY3VtZW50LmdldEVsZW1lbnRCeUlkKCdjdGwwMF9jdGwwMF90eHRHb29nbGVDdXN0b21TZWFyY2gnKS52YWx1ZT09J0tleXdvcmQgb3IgU2VhcmNoJylyZXR1cm4gZmFsc2U7ZAICD2QWBAIBDxYCHwEFDEZpbmFuY2UgTWVudWQCAw8UKwACFCsAAg8WBh4LXyFEYXRhQm91bmRnHhdFbmFibGVBamF4U2tpblJlbmRlcmluZ2geDERhdGFTb3VyY2VJRAUSU2l0ZU1hcERhdGFTb3VyY2UxZA8UKwATFCsAAg8WCB8BBQRIb21lHgtOYXZpZ2F0ZVVybAU5aHR0cDovL3d3dy5iYWx0aW1vcmVjaXR5Lmdvdi9nb3Zlcm5tZW50L2ZpbmFuY2UvaW5kZXgucGhwHgVWYWx1ZQUESG9tZR8EBQRIb21lZGQUKwACDxYIHwEFFEFjY291bnRpbmcgJiBQYXlyb2xsHw0FO2h0dHA6Ly93d3cuYmFsdGltb3JlY2l0eS5nb3YvZ292ZXJubWVudC9maW5hbmNlL2FjY291bnQucGhwHw4FFEFjY291bnRpbmcgJiBQYXlyb2xsHwQFFEFjY291bnRpbmcgJiBQYXlyb2xsZGQUKwACDxYIHwEFHEJ1ZGdldCAmIE1hbmFnZW1lbnQgUmVzZWFyY2gfDQU4aHR0cDovL3d3dy5iYWx0aW1vcmVjaXR5Lmdvdi9nb3Zlcm5tZW50L2ZpbmFuY2UvYmJtci5waHAfDgUcQnVkZ2V0ICYgTWFuYWdlbWVudCBSZXNlYXJjaB8EBRxCdWRnZXQgJiBNYW5hZ2VtZW50IFJlc2VhcmNoZGQUKwACDxYIHwEFCVB1cmNoYXNlcx8NBT1odHRwOi8vd3d3LmJhbHRpbW9yZWNpdHkuZ292L2dvdmVybm1lbnQvZmluYW5jZS9wdXJjaGFzZXMucGhwHw4FCVB1cmNoYXNlcx8EBQlQdXJjaGFzZXNkZBQrAAIPFggfAQUPUmlzayBNYW5hZ2VtZW50Hw0FPGh0dHA6Ly93d3cuYmFsdGltb3JlY2l0eS5nb3YvZ292ZXJubWVudC9maW5hbmNlL3Jpc2ttZ210LnBocB8OBQ9SaXNrIE1hbmFnZW1lbnQfBAUPUmlzayBNYW5hZ2VtZW50ZGQUKwACDxYIHwEFE1RyZWFzdXJ5IE1hbmFnZW1lbnQfDQU8aHR0cDovL3d3dy5iYWx0aW1vcmVjaXR5Lmdvdi9nb3Zlcm5tZW50L2ZpbmFuY2UvdHJlYXN1cnkucGhwHw4FE1RyZWFzdXJ5IE1hbmFnZW1lbnQfBAUTVHJlYXN1cnkgTWFuYWdlbWVudGRkFCsAAg8WCB8BBRNSZXZlbnVlIENvbGxlY3Rpb25zHw0FO2h0dHA6Ly93d3cuYmFsdGltb3JlY2l0eS5nb3YvZ292ZXJubWVudC9maW5hbmNlL3JldmVudWUucGhwHw4FE1JldmVudWUgQ29sbGVjdGlvbnMfBAUTUmV2ZW51ZSBDb2xsZWN0aW9uc2RkFCsAAg8WCB8BBRNEb2N1bWVudHMgJiBSZXBvcnRzHw0FOGh0dHA6Ly93d3cuYmFsdGltb3JlY2l0eS5nb3YvZ292ZXJubWVudC9maW5hbmNlL2RvY3MucGhwHw4FE0RvY3VtZW50cyAmIFJlcG9ydHMfBAUTRG9jdW1lbnRzICYgUmVwb3J0c2RkFCsAAg8WCB8BBQ9PbmxpbmUgUGF5bWVudHMfDQUtaHR0cDovL2NpdHlzZXJ2aWNlcy5iYWx0aW1vcmVjaXR5Lmdvdi9wYXlzeXMvHw4FD09ubGluZSBQYXltZW50cx8EBQ9PbmxpbmUgUGF5bWVudHNkZBQrAAIPFggfAQUTPGgyPkZBUSAvIEhlbHA8L2gyPh8NBQ8vUmVhbFByb3BlcnR5LyMfDgUTPGgyPkZBUSAvIEhlbHA8L2gyPh8EZWRkFCsAAg8WCB8BBQ1UYXggU2FsZSBGQVFzHw0FG2h0dHA6Ly93d3cuYmlkYmFsdGltb3JlLmNvbR8OBQ1UYXggU2FsZSBGQVFzHwQFDVRheCBTYWxlIEZBUXNkZBQrAAIPFggfAQURUGFya2luZyBGaW5lcyBGQVEfDQVBaHR0cDovL3d3dy5iYWx0aW1vcmVjaXR5Lmdvdi9hbnN3ZXJzL2luZGV4LnBocD9hY3Rpb249c2hvdyZjYXQ9MTAfDgURUGFya2luZyBGaW5lcyBGQVEfBAURUGFya2luZyBGaW5lcyBGQVFkZBQrAAIPFggfAQURUmVhbCBQcm9wZXJ0eSBGQVEfDQVBaHR0cDovL3d3dy5iYWx0aW1vcmVjaXR5Lmdvdi9hbnN3ZXJzL2luZGV4LnBocD9hY3Rpb249c2hvdyZjYXQ9MTIfDgURUmVhbCBQcm9wZXJ0eSBGQVEfBAURUmVhbCBQcm9wZXJ0eSBGQVFkZBQrAAIPFggfAQUVUGFya2luZyBGaW5lcyBMaXN0aW5nHw0Fa2h0dHA6Ly93d3cuYmFsdGltb3JlY2l0eS5nb3YvZ292ZXJubWVudC90cmFuc3BvcnRhdGlvbi9kb3dubG9hZHMvMTIwNy8xMjE5MDcgUGFya2luZyBGaW5lcyBMaXN0aW5nIDIwMDcucGRmHw4FFVBhcmtpbmcgRmluZXMgTGlzdGluZx8EBRVQYXJraW5nIEZpbmVzIExpc3RpbmdkZBQrAAIPFggfAQUYQXZvaWRpbmcgUGFya2luZyBUaWNrZXRzHw0FaGh0dHA6Ly93d3cuYmFsdGltb3JlY2l0eS5nb3YvZ292ZXJubWVudC90cmFuc3BvcnRhdGlvbi9kb3dubG9hZHMvMTIwNy8xMjE5MDcgUGFya2luZyBUaWNrZXQgQnJvY2h1cmUucGRmHw4FGEF2b2lkaW5nIFBhcmtpbmcgVGlja2V0cx8EBRhBdm9pZGluZyBQYXJraW5nIFRpY2tldHNkZBQrAAIPFggfAQURVHJhbnNmZXIgVGF4IFVuaXQfDQVBaHR0cDovL3d3dy5iYWx0aW1vcmVjaXR5Lmdvdi9hbnN3ZXJzL2luZGV4LnBocD9hY3Rpb249c2hvdyZjYXQ9MTEfDgURVHJhbnNmZXIgVGF4IFVuaXQfBAURVHJhbnNmZXIgVGF4IFVuaXRkZBQrAAIPFggfAQUKTGllbnMgVW5pdB8NBT1odHRwOi8vd3d3LmJhbHRpbW9yZWNpdHkuZ292L2dvdmVybm1lbnQvZmluYW5jZS9mYXF0bGllbnMucGhwHw4FCkxpZW5zIFVuaXQfBAUKTGllbnMgVW5pdGRkFCsAAg8WCB8BBRdMaWVuIENlcnRpZmljYXRlIFBvbGljeR8NBV9odHRwOi8vd3d3LmJhbHRpbW9yZWNpdHkuZ292L2dvdmVybm1lbnQvZmluYW5jZS9pbWFnZXMvTGllbiBDZXJ0aWZpY2F0ZSBwb2xpY3kgXzJfIE9jdCAyMDA4LnBkZh8OBRdMaWVuIENlcnRpZmljYXRlIFBvbGljeR8EBRdMaWVuIENlcnRpZmljYXRlIFBvbGljeWRkFCsAAg8WCB8BBQhDb250YWN0cx8NZR8OBQhDb250YWN0cx8EZWRkDxQrARNmZmZmZmZmZmZmZmZmZmZmZmZmFgEFc1RlbGVyaWsuV2ViLlVJLlJhZE1lbnVJdGVtLCBUZWxlcmlrLldlYi5VSSwgVmVyc2lvbj0yMDA4LjIuODI2LjIwLCBDdWx0dXJlPW5ldXRyYWwsIFB1YmxpY0tleVRva2VuPTEyMWZhZTc4MTY1YmEzZDRkFiZmDw8WCB8BBQRIb21lHw0FOWh0dHA6Ly93d3cuYmFsdGltb3JlY2l0eS5nb3YvZ292ZXJubWVudC9maW5hbmNlL2luZGV4LnBocB8OBQRIb21lHwQFBEhvbWVkZAIBDw8WCB8BBRRBY2NvdW50aW5nICYgUGF5cm9sbB8NBTtodHRwOi8vd3d3LmJhbHRpbW9yZWNpdHkuZ292L2dvdmVybm1lbnQvZmluYW5jZS9hY2NvdW50LnBocB8OBRRBY2NvdW50aW5nICYgUGF5cm9sbB8EBRRBY2NvdW50aW5nICYgUGF5cm9sbGRkAgIPDxYIHwEFHEJ1ZGdldCAmIE1hbmFnZW1lbnQgUmVzZWFyY2gfDQU4aHR0cDovL3d3dy5iYWx0aW1vcmVjaXR5Lmdvdi9nb3Zlcm5tZW50L2ZpbmFuY2UvYmJtci5waHAfDgUcQnVkZ2V0ICYgTWFuYWdlbWVudCBSZXNlYXJjaB8EBRxCdWRnZXQgJiBNYW5hZ2VtZW50IFJlc2VhcmNoZGQCAw8PFggfAQUJUHVyY2hhc2VzHw0FPWh0dHA6Ly93d3cuYmFsdGltb3JlY2l0eS5nb3YvZ292ZXJubWVudC9maW5hbmNlL3B1cmNoYXNlcy5waHAfDgUJUHVyY2hhc2VzHwQFCVB1cmNoYXNlc2RkAgQPDxYIHwEFD1Jpc2sgTWFuYWdlbWVudB8NBTxodHRwOi8vd3d3LmJhbHRpbW9yZWNpdHkuZ292L2dvdmVybm1lbnQvZmluYW5jZS9yaXNrbWdtdC5waHAfDgUPUmlzayBNYW5hZ2VtZW50HwQFD1Jpc2sgTWFuYWdlbWVudGRkAgUPDxYIHwEFE1RyZWFzdXJ5IE1hbmFnZW1lbnQfDQU8aHR0cDovL3d3dy5iYWx0aW1vcmVjaXR5Lmdvdi9nb3Zlcm5tZW50L2ZpbmFuY2UvdHJlYXN1cnkucGhwHw4FE1RyZWFzdXJ5IE1hbmFnZW1lbnQfBAUTVHJlYXN1cnkgTWFuYWdlbWVudGRkAgYPDxYIHwEFE1JldmVudWUgQ29sbGVjdGlvbnMfDQU7aHR0cDovL3d3dy5iYWx0aW1vcmVjaXR5Lmdvdi9nb3Zlcm5tZW50L2ZpbmFuY2UvcmV2ZW51ZS5waHAfDgUTUmV2ZW51ZSBDb2xsZWN0aW9ucx8EBRNSZXZlbnVlIENvbGxlY3Rpb25zZGQCBw8PFggfAQUTRG9jdW1lbnRzICYgUmVwb3J0cx8NBThodHRwOi8vd3d3LmJhbHRpbW9yZWNpdHkuZ292L2dvdmVybm1lbnQvZmluYW5jZS9kb2NzLnBocB8OBRNEb2N1bWVudHMgJiBSZXBvcnRzHwQFE0RvY3VtZW50cyAmIFJlcG9ydHNkZAIIDw8WCB8BBQ9PbmxpbmUgUGF5bWVudHMfDQUtaHR0cDovL2NpdHlzZXJ2aWNlcy5iYWx0aW1vcmVjaXR5Lmdvdi9wYXlzeXMvHw4FD09ubGluZSBQYXltZW50cx8EBQ9PbmxpbmUgUGF5bWVudHNkZAIJDw8WCB8BBRM8aDI+RkFRIC8gSGVscDwvaDI+Hw0FDy9SZWFsUHJvcGVydHkvIx8OBRM8aDI+RkFRIC8gSGVscDwvaDI+HwRlZGQCCg8PFggfAQUNVGF4IFNhbGUgRkFRcx8NBRtodHRwOi8vd3d3LmJpZGJhbHRpbW9yZS5jb20fDgUNVGF4IFNhbGUgRkFRcx8EBQ1UYXggU2FsZSBGQVFzZGQCCw8PFggfAQURUGFya2luZyBGaW5lcyBGQVEfDQVBaHR0cDovL3d3dy5iYWx0aW1vcmVjaXR5Lmdvdi9hbnN3ZXJzL2luZGV4LnBocD9hY3Rpb249c2hvdyZjYXQ9MTAfDgURUGFya2luZyBGaW5lcyBGQVEfBAURUGFya2luZyBGaW5lcyBGQVFkZAIMDw8WCB8BBRFSZWFsIFByb3BlcnR5IEZBUR8NBUFodHRwOi8vd3d3LmJhbHRpbW9yZWNpdHkuZ292L2Fuc3dlcnMvaW5kZXgucGhwP2FjdGlvbj1zaG93JmNhdD0xMh8OBRFSZWFsIFByb3BlcnR5IEZBUR8EBRFSZWFsIFByb3BlcnR5IEZBUWRkAg0PDxYIHwEFFVBhcmtpbmcgRmluZXMgTGlzdGluZx8NBWtodHRwOi8vd3d3LmJhbHRpbW9yZWNpdHkuZ292L2dvdmVybm1lbnQvdHJhbnNwb3J0YXRpb24vZG93bmxvYWRzLzEyMDcvMTIxOTA3IFBhcmtpbmcgRmluZXMgTGlzdGluZyAyMDA3LnBkZh8OBRVQYXJraW5nIEZpbmVzIExpc3RpbmcfBAUVUGFya2luZyBGaW5lcyBMaXN0aW5nZGQCDg8PFggfAQUYQXZvaWRpbmcgUGFya2luZyBUaWNrZXRzHw0FaGh0dHA6Ly93d3cuYmFsdGltb3JlY2l0eS5nb3YvZ292ZXJubWVudC90cmFuc3BvcnRhdGlvbi9kb3dubG9hZHMvMTIwNy8xMjE5MDcgUGFya2luZyBUaWNrZXQgQnJvY2h1cmUucGRmHw4FGEF2b2lkaW5nIFBhcmtpbmcgVGlja2V0cx8EBRhBdm9pZGluZyBQYXJraW5nIFRpY2tldHNkZAIPDw8WCB8BBRFUcmFuc2ZlciBUYXggVW5pdB8NBUFodHRwOi8vd3d3LmJhbHRpbW9yZWNpdHkuZ292L2Fuc3dlcnMvaW5kZXgucGhwP2FjdGlvbj1zaG93JmNhdD0xMR8OBRFUcmFuc2ZlciBUYXggVW5pdB8EBRFUcmFuc2ZlciBUYXggVW5pdGRkAhAPDxYIHwEFCkxpZW5zIFVuaXQfDQU9aHR0cDovL3d3dy5iYWx0aW1vcmVjaXR5Lmdvdi9nb3Zlcm5tZW50L2ZpbmFuY2UvZmFxdGxpZW5zLnBocB8OBQpMaWVucyBVbml0HwQFCkxpZW5zIFVuaXRkZAIRDw8WCB8BBRdMaWVuIENlcnRpZmljYXRlIFBvbGljeR8NBV9odHRwOi8vd3d3LmJhbHRpbW9yZWNpdHkuZ292L2dvdmVybm1lbnQvZmluYW5jZS9pbWFnZXMvTGllbiBDZXJ0aWZpY2F0ZSBwb2xpY3kgXzJfIE9jdCAyMDA4LnBkZh8OBRdMaWVuIENlcnRpZmljYXRlIFBvbGljeR8EBRdMaWVuIENlcnRpZmljYXRlIFBvbGljeWRkAhIPDxYIHwEFCENvbnRhY3RzHw1lHw4FCENvbnRhY3RzHwRlZGQCBQ8WAh8BBRE8aDI+Q09OVEFDVFM8L2gyPmQCBg8WAh8BBasDPGRpdiBzdHlsZT0ncGFkZGluZzoxMHB4Oyc+PGEgaHJlZj0nbWFpbHRvOkJhbHRpbW9yZUNpdHlDb2xsZWN0aW9uc0BiYWx0aW1vcmVjaXR5Lmdvdic+PHN0cm9uZz5SZXZlbnVlIENvbGxlY3Rpb25zPC9zdHJvbmc+PC9hPjxici8+MjAwIEhvbGxpZGF5IFN0LiwgUm9vbSA3PGJyLz48YnIvPjxhIGhyZWY9J2h0dHA6Ly93d3cuYmFsdGltb3JlY2l0eS5nb3YvZ292ZXJubWVudC9maW5hbmNlL3JldmVudWUucGhwI2NvbnRhY3RzJz48c3Ryb25nPkFsbCAgQ29udGFjdCBOdW1iZXJzPC9zdHJvbmc+PC9hPjxici8+PGJyIC8+IDxici8+PGgxPkFkbWluaXN0cmF0aW9uPC9oMT4gPGJyLz48c3Ryb25nPiBIZW5yeSBSYXltb25kICA8YnIgLz4gPC9zdHJvbmc+PGVtPkNoaWVmPC9lbT48YnIgLz5CdXJlYXUgb2YgUmV2ZW51ZSBDb2xsZWN0aW9uczwvZGl2PmQCCQ9kFgICAQ9kFhACAQ8WAh4EaHJlZgU2aHR0cDovL2NpdHlzZXJ2aWNlcy5iYWx0aW1vcmVjaXR5Lmdvdi9TcGVjaWFsQmVuZWZpdHMvZAICDw8WBB8BBW1UaGUgRVhFQ1VURSBwZXJtaXNzaW9uIHdhcyBkZW5pZWQgb24gdGhlIG9iamVjdCAnQWRkTG9nRW50cnknLCBkYXRhYmFzZSAnRmluYW5jZV9SZWFsUHJvcGVydHknLCBzY2hlbWEgJ2RibycuHwJoZGQCAw8PFgIfAmhkFgZmDxBkDxYEZgIBAgICAxYEEAUJMjAxNS8yMDE2BQQyMDE2ZxAFCTIwMTQvMjAxNQUEMjAxNWcQBQkyMDEzLzIwMTQFBDIwMTRnEAUJMjAxMi8yMDEzBQQyMDEzZxYBZmQCBA8PFgIfAQUPMjkxOSBzYWludCBwYXVsZGQCBg8PFgIfAmhkZAIEDw8WAh8CaGQWAgIBDxYCHwEFgAk8b2w+PGxpPlRoaXMgcGFnZSBpcyBmb3IgUmVhbCBQcm9wZXJ0eSB0YXhlcy4gIFVzZSB0aGlzIGxpbmsgZm9yIDxhIGhyZWY9Jy9TcGVjaWFsQmVuZWZpdHMvJz5TcGVjaWFsIEJlbmVmaXQgRGlzdHJpY3QgU3VyY2hhcmdlczwvYT4uIA0KPGxpPklmIHlvdSBrbm93IHRoZSBCbG9jayAmIExvdCwgZW50ZXIgb25seSB0aGUgYmxvY2sgJiBsb3QuIA0KPGxpPklmIHlvdSBhcmUgc2VhcmNoaW5nIGJ5IHByb3BlcnR5IGFkZHJlc3Mgb3Igb3duZXIgbmFtZSwgeW91IG1heSBlbnRlciBhbnkgcG9ydGlvbiBvZiBlaXRoZXIgb3IgYm90aCBvZiB0aG9zZSBmaWVsZHMuICBXaGVuIHlvdSBlbnRlciBkYXRhIGluIGEgc2VhcmNoIGZpZWxkLCB0aGUgZGF0YSB5b3UgZW50ZXJlZCBpcyBsb29rZWQgZm9yIGFueXdoZXJlIHdpdGhpbiB0aGF0IGZpZWxkLiBGb3IgZXhhbXBsZSwgaWYgeW91IGVudGVyIEJsdWUgaW4gdGhlIEFkZHJlc3MgZmllbGQsIHlvdSB3aWxsIGdldCByZXN1bHRzIGluY2x1ZGluZyBCbHVlYmVycnksIEJsdWVib25uZXQsIFRydWVCbHVlLCBldGMuIA0KPGxpPkRpcmVjdGlvbnMgc3VjaCBhcyBOb3J0aCwgU291dGgsIEVhc3QsIFdlc3Qgc2hvdWxkIGJlIGVudGVyZWQgYXMgTixTLEUsVyB3aXRoIG5vIHBlcmlvZC4gDQo8bGk+SWYgeW91ciBzZWFyY2ggZmFpbHMsIHJldHJ5IHdpdGggbGVzcyBpbmZvcm1hdGlvbiBzdWNoIGFzLCBGaXJzdCBTZWFyY2g6IE93bmVyPVJvc2VuYmxhdHQsIHJlc3VsdHM9MCBTZWNvbmQgU2VhcmNoOiBPd25lcj1Sb3NlbiByZXN1bHRzPTEyNCANCjxsaT5MZWF2ZSBvZmYgYWxsIHN0cmVldCBzdWZmaXhlcyBzdWNoIGFzIFN0LixXYXksIFJvYWQgZXRjLiANCjxsaT5XaGVuIHNlYXJjaGluZyBieSBuYW1lLCBlbnRlciBpbiBMYXN0TmFtZSwgRmlyc3ROYW1lIGZvcm1hdC4gDQo8bGk+SWYgYWxsIHlvdXIgc2VhcmNoZXMgYXJlIHVuc3VjY2Vzc2Z1bCwgcGxlYXNlIGNvbnRhY3QgdGhlIERlcHQuIG9mIEZpbmFuY2UgYXQgNDEwLTM5Ni0zOTg3DQo8bGk+PHN0cm9uZz5SZXR1cm5lZCBzZWFyY2ggcmVzdWx0cyBhcmUgbGltaXRlZCB0byA1MCByZWNvcmRzLiBJZiB5b3UgcmVhY2ggdGhpcyBsaW1pdCwgcGxlYXNlIHJlZmluZSB5b3VyIHNlYXJjaCBjcml0ZXJpYS48c3Ryb25nPg0KPC9vbD5kAgUPDxYCHwJnZBYKAgEPDxYEHwJnHwEFNjxiPkNyaXRlcmlhIFVzZWQ6PC9iPlllYXI9MjAxNiBBZGRyZXNzPTI5MTkgc2FpbnQgcGF1bGRkAgMPDxYIHglGb3JlQ29sb3IKkAEfAQUWPGI+UmVjb3JkcyBmb3VuZDo8L2I+MR8CZx4EXyFTQgIEZGQCBQ8PFgQfAmcfAQUZPGI+U29ydGVkIEJ5OjwvYj5CbG9ja0xvdGRkAgcPDxYCHwJnZGQCCQ88KwALAQAPFgweC18hSXRlbUNvdW50AgEeCERhdGFLZXlzFgEFCTM4NTIgMDMyIB4MRGF0YUtleUZpZWxkBQhibG9ja2xvdB4JUGFnZUNvdW50AgEeFV8hRGF0YVNvdXJjZUl0ZW1Db3VudAIBHhBDdXJyZW50UGFnZUluZGV4ZmQWAmYPZBYCAgEPZBYMZg8PFgIfAQUFMzg1MiBkZAIBDw8WAh8BBQQwMzIgZGQCAg8PFgIfAQUhMjkxOSBTQUlOVCBQQVVMIFNUICAgICAgICAgICAgICAgZGQCAw9kFggCAQ8PFgIfAQUhSElORUdBUkRORVIsIENIRVNMSUUgSCAgICAgICAgICAgZGQCAw8PFgIfAQUhSElORUdBUkRORVIsIFRIRUxNQSBQICAgICAgICAgICAgZGQCBQ8PFgIfAQUhSElORUdBUkRORVIsIFdFU0xJRSBKICAgICAgICAgICAgZGQCBw8PFgIfAQUhMTYgRSBMQUtFIEFWRSAgICAgICAgICAgICAgICAgICAgZGQCBA9kFgICAQ9kFgICAQ8VASEyOTE5IFNBSU5UIFBBVUwgU1QgICAgICAgICAgICAgICBkAgUPZBYCAgEPZBYCAgEPFQEhMjkxOSBTQUlOVCBQQVVMIFNUICAgICAgICAgICAgICAgZAIGD2QWBAIND2QWAmYPZBYCZg9kFgJmDw8WAh8CaGRkAhUPZBYCAgEPDxYCHwEFL1BheSBPbmxpbmUgd2l0aCBDcmVkaXQgQ2FyZCBvciBDaGVja2luZyBBY2NvdW50ZGQCBw9kFgICBw9kFgICAQ88KwALAGQCCA8PFgIfAmhkZBgBBR5fX0NvbnRyb2xzUmVxdWlyZVBvc3RCYWNrS2V5X18WAgUeY3RsMDAkY3RsMDAkaW1nQnRuR29vZ2xlU2VhcmNoBRRjdGwwMCRjdGwwMCRSYWRNZW51MXDbEEWH2039l2oHCHqw20uQUESS'\n",
    "formdict['__VIEWSTATEGENERATOR'] = 'AE2FC7FE'\n",
    "formdict['ctl00$ctl00$rootMasterContent$LocalContentPlaceHolder$hdnDdyear'] = '0'\n",
    "formdict['ctl00$ctl00$rootMasterContent$LocalContentPlaceHolder$hdnSYear'] = '2016'\n",
    "formdict['ctl00$ctl00$rootMasterContent$LocalContentPlaceHolder$hdnYear'] = '2016'\n",
    "formdict['ctl00$ctl00$txtGoogleCustomSearch'] = 'Search Unavailable'\n",
    "\n",
    "# Site requires only specific fields are filled, e.g., if block and lot are available, clear the Address field\n",
    "if block != '' and lot != '':\n",
    "    formdict['ctl00$ctl00$rootMasterContent$LocalContentPlaceHolder$hdnBlock'] = block\n",
    "    formdict['ctl00$ctl00$rootMasterContent$LocalContentPlaceHolder$hdnLot'] = lot\n",
    "    formdict['ctl00$ctl00$rootMasterContent$LocalContentPlaceHolder$hdnAddress'] = ''\n",
    "elif homeAddress != '':\n",
    "    formdict['ctl00$ctl00$rootMasterContent$LocalContentPlaceHolder$hdnAddress'] = homeAddress\n",
    "    formdict['ctl00$ctl00$rootMasterContent$LocalContentPlaceHolder$hdnBlock'] = ''\n",
    "    formdict['ctl00$ctl00$rootMasterContent$LocalContentPlaceHolder$hdnLot'] = ''\n",
    "    \n",
    "# hdn and hdnS terms should match\n",
    "formdict['ctl00$ctl00$rootMasterContent$LocalContentPlaceHolder$hdnSBlock'] = formdict['ctl00$ctl00$rootMasterContent$LocalContentPlaceHolder$hdnBlock']\n",
    "formdict['ctl00$ctl00$rootMasterContent$LocalContentPlaceHolder$hdnSLot'] = formdict['ctl00$ctl00$rootMasterContent$LocalContentPlaceHolder$hdnLot']\n",
    "formdict['ctl00$ctl00$rootMasterContent$LocalContentPlaceHolder$hdnSAddress'] = formdict['ctl00$ctl00$rootMasterContent$LocalContentPlaceHolder$hdnAddress']\n",
    "\n",
    "# format standard request header, suggesting we're accessing the page from a browser\n",
    "header = {\n",
    "        'Host': 'cityservices.baltimorecity.gov',\n",
    "        'User-Agent': 'Mozilla/5.0 (Windows NT 10.0; Win64; x64; rv:40.0) Gecko/20100101 Firefox/40.0.2 Waterfox/40.0.2',\n",
    "        'Accept': 'text/html,application/xhtml+xml,application/xml;q=0.9,*/*;q=0.8',\n",
    "        'Accept-Language': 'en-US,en;q=0.5',\n",
    "        'Accept-Encoding': 'gzip, deflate',\n",
    "        'DNT': '1',\n",
    "        'Referer': 'http://cityservices.baltimorecity.gov/realproperty/default.aspx',\n",
    "        'Cookie': '_ga=GA1.2.2062381308.1428954099; mp_1d804068e1d3694468823f3c7f74567d_mixpanel=%7B%22distinct_id%22%3A%20%2214cb44d2de3162-01db7f5e997e92-44564136-1fa400-14cb44d2de422a%22%2C%22%24initial_referrer%22%3A%20%22%24direct%22%2C%22%24initial_referring_domain%22%3A%20%22%24direct%22%7D; __cfduid=de1f4fbbc270aa62b4d2bf392f18c8dbb1442023631; ASP.NET_SessionId=vvu4ni450ckn2andelxu4jra; __utma=231819392.2062381308.1428954099.1442080045.1442082439.2; __utmc=231819392; __utmz=231819392.1442080045.1.1.utmcsr=(direct)|utmccn=(direct)|utmcmd=(none); __utmb=231819392.1.10.1442082439; __utmt=1',\n",
    "        'Connection': 'keep-alive'\n",
    "    }"
   ]
  },
  {
   "cell_type": "markdown",
   "metadata": {},
   "source": [
    "## Use Requests"
   ]
  },
  {
   "cell_type": "code",
   "execution_count": 3,
   "metadata": {
    "collapsed": false
   },
   "outputs": [],
   "source": [
    "from requests import Session\n",
    "\n",
    "session = Session()\n",
    "\n",
    "\n",
    "# HEAD requests ask for *just* the headers, which is all you need to grab the\n",
    "# session cookie\n",
    "session.head('http://cityservices.baltimorecity.gov/realproperty')\n",
    "\n",
    "response = session.post(\n",
    "    url='http://cityservices.baltimorecity.gov/realproperty/default.aspx',\n",
    "    data = formdict,\n",
    "    headers = header\n",
    ")"
   ]
  },
  {
   "cell_type": "code",
   "execution_count": 4,
   "metadata": {
    "collapsed": false
   },
   "outputs": [],
   "source": [
    "# Output rendered HTML page to file in current directory\n",
    "with open('propinfo.html','wb') as f:\n",
    "    f.write(response.text.encode('utf-8'))"
   ]
  },
  {
   "cell_type": "code",
   "execution_count": 5,
   "metadata": {
    "collapsed": false
   },
   "outputs": [
    {
     "data": {
      "text/plain": [
       "{'content-length': '120639', 'x-powered-by': 'ASP.NET', 'x-aspnet-version': '2.0.50727', 'server': 'Microsoft-IIS/7.5', 'cache-control': 'private', 'date': 'Sat, 12 Sep 2015 23:22:02 GMT', 'content-type': 'text/html; charset=utf-8'}"
      ]
     },
     "execution_count": 5,
     "metadata": {},
     "output_type": "execute_result"
    }
   ],
   "source": [
    "response.headers"
   ]
  },
  {
   "cell_type": "markdown",
   "metadata": {},
   "source": [
    "## Use jQuery"
   ]
  },
  {
   "cell_type": "code",
   "execution_count": 6,
   "metadata": {
    "collapsed": false
   },
   "outputs": [],
   "source": [
    "from pyquery import PyQuery as pq"
   ]
  },
  {
   "cell_type": "code",
   "execution_count": 7,
   "metadata": {
    "collapsed": false
   },
   "outputs": [],
   "source": [
    "response = pq(url='http://cityservices.baltimorecity.gov/realproperty/default.aspx',\n",
    "    data = formdict,\n",
    "    headers = header,\n",
    "    method = 'post')"
   ]
  },
  {
   "cell_type": "code",
   "execution_count": 8,
   "metadata": {
    "collapsed": false
   },
   "outputs": [],
   "source": [
    "with open('propinfo.html','wb') as f:\n",
    "    f.write(response.html().encode('utf-8'))"
   ]
  }
 ],
 "metadata": {
  "kernelspec": {
   "display_name": "Python 2",
   "language": "python",
   "name": "python2"
  },
  "language_info": {
   "codemirror_mode": {
    "name": "ipython",
    "version": 2
   },
   "file_extension": ".py",
   "mimetype": "text/x-python",
   "name": "python",
   "nbconvert_exporter": "python",
   "pygments_lexer": "ipython2",
   "version": "2.7.8"
  }
 },
 "nbformat": 4,
 "nbformat_minor": 0
}
